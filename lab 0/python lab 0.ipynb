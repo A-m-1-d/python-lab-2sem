{
 "cells": [
  {
   "cell_type": "code",
   "execution_count": 4,
   "id": "27b078cf-d374-4c60-bbb1-d066ea85e1bf",
   "metadata": {},
   "outputs": [
    {
     "name": "stdin",
     "output_type": "stream",
     "text": [
      "Введите ваше имя:  fgh\n",
      "Введите год рождения (например, 2004):  2000\n"
     ]
    },
    {
     "name": "stdout",
     "output_type": "stream",
     "text": [
      "Привет, fgh! В этом году тебе исполняется 25 лет.\n"
     ]
    }
   ],
   "source": [
    "# Задание 1 — имя и год рождения = возраст в 2025\n",
    "\n",
    "# ШАГ 1 — ввод\n",
    "name = input(\"Введите ваше имя: \").strip()\n",
    "year_str = input(\"Введите год рождения (например, 2004): \").strip()\n",
    "\n",
    "# ШАГ 2 — возраст\n",
    "CURRENT_YEAR = 2025\n",
    "try:\n",
    "    birth_year = int(year_str)\n",
    "    age = CURRENT_YEAR - birth_year\n",
    "    # ШАГ 3 — вывод\n",
    "    print(f\"Привет, {name}! В этом году тебе исполняется {age} лет.\")\n",
    "except ValueError:\n",
    "    print(\"Ошибка: год рождения должен быть целым числом.\")\n"
   ]
  },
  {
   "cell_type": "code",
   "execution_count": 2,
   "id": "142b4871-ef47-4857-831a-6830fb1384db",
   "metadata": {},
   "outputs": [
    {
     "name": "stdin",
     "output_type": "stream",
     "text": [
      "Введите целое число:  22\n"
     ]
    },
    {
     "name": "stdout",
     "output_type": "stream",
     "text": [
      "Число не кратно одновременно 5 и 10\n"
     ]
    }
   ],
   "source": [
    "# Задание 2 — кратно 5 и 10 одновременно\n",
    "\n",
    "# ШАГ 1 — ввод\n",
    "s = input(\"Введите целое число: \").strip()\n",
    "try:\n",
    "    n = int(s)\n",
    "    # ШАГ 2 — проверка\n",
    "    if n % 5 == 0 and n % 10 == 0:\n",
    "        print(\"Число кратно и 5, и 10\")\n",
    "    else:\n",
    "        print(\"Число не кратно одновременно 5 и 10\")\n",
    "except ValueError:\n",
    "    print(\"Ошибка: введите целое число.\")\n"
   ]
  },
  {
   "cell_type": "code",
   "execution_count": 3,
   "id": "fbd9b525-e4a3-4d20-a6c2-2cee31d5bfc4",
   "metadata": {},
   "outputs": [
    {
     "name": "stdin",
     "output_type": "stream",
     "text": [
      "Введите первое целое число:  10\n",
      "Введите второе целое число:  5\n",
      "Введите третье целое число:  22\n"
     ]
    },
    {
     "name": "stdout",
     "output_type": "stream",
     "text": [
      "5\n"
     ]
    }
   ],
   "source": [
    "# Задание 3 — минимум из трёх без min/sort\n",
    "\n",
    "# ШАГ 1 — ввод\n",
    "a_str = input(\"Введите первое целое число: \").strip()\n",
    "b_str = input(\"Введите второе целое число: \").strip()\n",
    "c_str = input(\"Введите третье целое число: \").strip()\n",
    "\n",
    "# ШАГ 2 — минимум\n",
    "try:\n",
    "    a = int(a_str); b = int(b_str); c = int(c_str)\n",
    "    mn = a\n",
    "    if b < mn:\n",
    "        mn = b\n",
    "    if c < mn:\n",
    "        mn = c\n",
    "    print(mn)\n",
    "except ValueError:\n",
    "    print(\"Ошибка: все значения должны быть целыми числами.\")\n"
   ]
  },
  {
   "cell_type": "code",
   "execution_count": 5,
   "id": "28a94a0f-d4ff-4aec-911d-2f5a3ef03571",
   "metadata": {},
   "outputs": [
    {
     "name": "stdin",
     "output_type": "stream",
     "text": [
      "Введите начало диапазона (целое):  10\n",
      "Введите конец диапазона (целое):  40\n"
     ]
    },
    {
     "name": "stdout",
     "output_type": "stream",
     "text": [
      "10 12 14 16 18 20 22 24 26 28 30 32 34 36 38 40\n"
     ]
    }
   ],
   "source": [
    "# Задание 4 — чётные в диапазоне включительно\n",
    "\n",
    "# ШАГ 1 — ввод\n",
    "start_str = input(\"Введите начало диапазона (целое): \").strip()\n",
    "end_str = input(\"Введите конец диапазона (целое): \").strip()\n",
    "\n",
    "try:\n",
    "    start = int(start_str)\n",
    "    end = int(end_str)\n",
    "\n",
    "    # ШАГ 2 — нормализуем порядок\n",
    "    lo, hi = (start, end) if start <= end else (end, start)\n",
    "\n",
    "    # ШАГ 3 — собираем чётные\n",
    "    evens = []\n",
    "    first = lo if lo % 2 == 0 else lo + 1\n",
    "    for x in range(first, hi + 1, 2):\n",
    "        evens.append(x)\n",
    "\n",
    "    if evens:\n",
    "        print(*evens)\n",
    "    else:\n",
    "        print(\"В этом диапазоне нет чётных чисел.\")\n",
    "except ValueError:\n",
    "    print(\"Ошибка: введите целые числа для границ.\")\n"
   ]
  },
  {
   "cell_type": "code",
   "execution_count": 6,
   "id": "95669dda-7cb4-44d0-9e33-45f14c1de547",
   "metadata": {},
   "outputs": [
    {
     "name": "stdout",
     "output_type": "stream",
     "text": [
      "Количество элементов: 9\n",
      "Последний элемент: 11\n",
      "Обратный порядок: [11, 0, -8, 17, 4, 0, 23, -5, 12]\n",
      "Нет\n"
     ]
    }
   ],
   "source": [
    "# Задание 5 — операции со списком numbers\n",
    "\n",
    "# ШАГ 1 — исходный список\n",
    "numbers = [12, -5, 23, 0, 4, 17, -8, 0, 11]\n",
    "\n",
    "# ШАГ 2 — количество элементов\n",
    "print(\"Количество элементов:\", len(numbers))\n",
    "\n",
    "# ШАГ 3 — последний элемент\n",
    "if numbers:\n",
    "    print(\"Последний элемент:\", numbers[-1])\n",
    "else:\n",
    "    print(\"Список пуст.\")\n",
    "\n",
    "# ШАГ 4 — в обратном порядке\n",
    "print(\"Обратный порядок:\", list(reversed(numbers)))\n",
    "\n",
    "# ШАГ 5 — содержит ли и 5, и 17\n",
    "print(\"Да\" if (5 in numbers and 17 in numbers) else \"Нет\")\n"
   ]
  },
  {
   "cell_type": "code",
   "execution_count": 7,
   "id": "1055aa2a-19a6-44a5-ba5a-c806efd812ad",
   "metadata": {},
   "outputs": [
    {
     "name": "stdout",
     "output_type": "stream",
     "text": [
      "Имя: Ivan\n",
      "Курс: Python Basics\n",
      "Средний балл: 4.2\n",
      "Обновлённый словарь: {'name': 'Ivan', 'age': 20, 'course': 'Python Basics', 'grades': [4, 5, 3, 5, 4, 5]}\n"
     ]
    }
   ],
   "source": [
    "# Задание 6 — словарь student и средний балл\n",
    "\n",
    "# ШАГ 1 — словарь\n",
    "student = {\n",
    "    \"name\": \"Ivan\",\n",
    "    \"age\": 20,\n",
    "    \"course\": \"Python Basics\",\n",
    "    \"grades\": [4, 5, 3, 5, 4],\n",
    "}\n",
    "\n",
    "# ШАГ 2 — имя и курс\n",
    "print(\"Имя:\", student[\"name\"])\n",
    "print(\"Курс:\", student[\"course\"])\n",
    "\n",
    "# ШАГ 3 — средний балл\n",
    "grades = student.get(\"grades\", [])\n",
    "avg = sum(grades) / len(grades) if grades else 0.0\n",
    "print(\"Средний балл:\", round(avg, 2))\n",
    "\n",
    "# ШАГ 4 — добавить оценку 5\n",
    "student[\"grades\"].append(5)\n",
    "\n",
    "# ШАГ 5 — обновлённый словарь\n",
    "print(\"Обновлённый словарь:\", student)\n"
   ]
  },
  {
   "cell_type": "code",
   "execution_count": 8,
   "id": "faedcdfc-9f83-48a6-a8f9-3cfbe2b07e72",
   "metadata": {},
   "outputs": [
    {
     "name": "stdin",
     "output_type": "stream",
     "text": [
      "Введите радиус круга:  10\n"
     ]
    },
    {
     "name": "stdout",
     "output_type": "stream",
     "text": [
      "Площадь круга: 314.1592653589793\n"
     ]
    },
    {
     "name": "stdin",
     "output_type": "stream",
     "text": [
      "Введите число для проверки на положительность:  5\n"
     ]
    },
    {
     "name": "stdout",
     "output_type": "stream",
     "text": [
      "Число положительное? True\n"
     ]
    }
   ],
   "source": [
    "# Задание 7 — функции площади круга и проверки на положительность\n",
    "import math\n",
    "\n",
    "# ШАГ 1 — функции\n",
    "def calculate_circle_area(radius: float) -> float:\n",
    "    \"\"\"Площадь круга: π * R^2.\"\"\"\n",
    "    return math.pi * (radius ** 2)\n",
    "\n",
    "def is_positive(number: float) -> bool:\n",
    "    \"\"\"True, если число > 0, иначе False.\"\"\"\n",
    "    return number > 0\n",
    "\n",
    "# ШАГ 2 — демонстрация\n",
    "try:\n",
    "    r = float(input(\"Введите радиус круга: \").strip())\n",
    "    print(\"Площадь круга:\", calculate_circle_area(r))\n",
    "except ValueError:\n",
    "    print(\"Ошибка: радиус должен быть числом.\")\n",
    "\n",
    "try:\n",
    "    n = float(input(\"Введите число для проверки на положительность: \").strip())\n",
    "    print(\"Число положительное?\", is_positive(n))\n",
    "except ValueError:\n",
    "    print(\"Ошибка: нужно ввести число.\")\n"
   ]
  },
  {
   "cell_type": "code",
   "execution_count": 9,
   "id": "3cb01294-990d-4c39-b4cb-0c14899014bc",
   "metadata": {},
   "outputs": [
    {
     "name": "stdin",
     "output_type": "stream",
     "text": [
      "Введите строку:  asdfghjk\n"
     ]
    },
    {
     "name": "stdout",
     "output_type": "stream",
     "text": [
      "dvgijkmn\n"
     ]
    }
   ],
   "source": [
    "# Задание 8 — сдвиг букв на +3 (латиница), регистр сохраняется\n",
    "\n",
    "# ШАГ 1 — ввод\n",
    "text = input(\"Введите строку: \")\n",
    "\n",
    "# ШАГ 2 — функция сдвига\n",
    "def shift_char(ch: str, k: int = 3) -> str:\n",
    "    if 'a' <= ch <= 'z':\n",
    "        base = ord('a')\n",
    "        return chr(base + (ord(ch) - base + k) % 26)\n",
    "    if 'A' <= ch <= 'Z':\n",
    "        base = ord('A')\n",
    "        return chr(base + (ord(ch) - base + k) % 26)\n",
    "    return ch  # прочие символы — как есть\n",
    "\n",
    "# ШАГ 3 — применение\n",
    "res = ''.join(shift_char(c) for c in text)\n",
    "print(res)\n"
   ]
  },
  {
   "cell_type": "code",
   "execution_count": 10,
   "id": "f1e64922-e997-4933-a3f5-77b16b22c36a",
   "metadata": {},
   "outputs": [
    {
     "name": "stdout",
     "output_type": "stream",
     "text": [
      "Исходный список: [-5, 9, 9, 10, 9, 2, -6, -2, 9, -3, 0, 3, 3, 3, 10]\n",
      "Положительные: [9, 9, 10, 9, 2, 9, 3, 3, 3, 10]\n",
      "Квадраты: [25, 81, 81, 100, 81, 4, 36, 4, 81, 9, 0, 9, 9, 9, 100]\n"
     ]
    }
   ],
   "source": [
    "# Задание 9 — случайный список + положительные + квадраты\n",
    "import random\n",
    "\n",
    "# ШАГ 1 — исходный список\n",
    "numbers = [random.randint(-10, 10) for _ in range(15)]\n",
    "print(\"Исходный список:\", numbers)\n",
    "\n",
    "# ШАГ 2 — положительные\n",
    "positives = [x for x in numbers if x > 0]\n",
    "print(\"Положительные:\", positives)\n",
    "\n",
    "# ШАГ 3 — квадраты всех чисел\n",
    "squares = [x * x for x in numbers]\n",
    "print(\"Квадраты:\", squares)"
   ]
  },
  {
   "cell_type": "code",
   "execution_count": 12,
   "id": "dec1e9c0-17bc-433f-9231-bef9955281fb",
   "metadata": {},
   "outputs": [
    {
     "name": "stdin",
     "output_type": "stream",
     "text": [
      "Введите число или 'стоп':  1765\n"
     ]
    },
    {
     "name": "stdout",
     "output_type": "stream",
     "text": [
      "1765.0\n"
     ]
    },
    {
     "name": "stdin",
     "output_type": "stream",
     "text": [
      "Введите число или 'стоп':  2345 3456\n"
     ]
    },
    {
     "name": "stdout",
     "output_type": "stream",
     "text": [
      "Ошибка: введите число или 'стоп'.\n"
     ]
    },
    {
     "name": "stdin",
     "output_type": "stream",
     "text": [
      "Введите число или 'стоп':  65,234\n"
     ]
    },
    {
     "name": "stdout",
     "output_type": "stream",
     "text": [
      "65.234\n"
     ]
    },
    {
     "name": "stdin",
     "output_type": "stream",
     "text": [
      "Введите число или 'стоп':  65.34\n"
     ]
    },
    {
     "name": "stdout",
     "output_type": "stream",
     "text": [
      "65.34\n"
     ]
    },
    {
     "name": "stdin",
     "output_type": "stream",
     "text": [
      "Введите число или 'стоп':  стоп\n"
     ]
    },
    {
     "name": "stdout",
     "output_type": "stream",
     "text": [
      "Завершение программы.\n"
     ]
    }
   ],
   "source": [
    "# Задание 10 — ввод чисел до \"стоп\" с обработкой ошибок\n",
    "\n",
    "# ШАГ 1 — цикл ввода\n",
    "while True:\n",
    "    s = input(\"Введите число или 'стоп': \").strip()\n",
    "    if s.lower() == \"стоп\":\n",
    "        print(\"Завершение программы.\")\n",
    "        break\n",
    "    try:\n",
    "        # поддержим запятую как разделитель\n",
    "        val = float(s.replace(\",\", \".\"))\n",
    "        print(val)\n",
    "    except ValueError:\n",
    "        print(\"Ошибка: введите число или 'стоп'.\")"
   ]
  },
  {
   "cell_type": "code",
   "execution_count": null,
   "id": "af6ae6ae-8098-48fb-9ba3-784583ffde7c",
   "metadata": {},
   "outputs": [],
   "source": []
  },
  {
   "cell_type": "code",
   "execution_count": null,
   "id": "0f5ff58b-be52-4938-b5d2-77009ad35e60",
   "metadata": {},
   "outputs": [],
   "source": []
  }
 ],
 "metadata": {
  "kernelspec": {
   "display_name": "Python 3 (ipykernel)",
   "language": "python",
   "name": "python3"
  },
  "language_info": {
   "codemirror_mode": {
    "name": "ipython",
    "version": 3
   },
   "file_extension": ".py",
   "mimetype": "text/x-python",
   "name": "python",
   "nbconvert_exporter": "python",
   "pygments_lexer": "ipython3",
   "version": "3.13.7"
  }
 },
 "nbformat": 4,
 "nbformat_minor": 5
}
